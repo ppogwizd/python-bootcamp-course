{
 "cells": [
  {
   "cell_type": "markdown",
   "id": "00ff4ec2-9cfe-4189-bf6c-a5c04ffd2d19",
   "metadata": {},
   "source": [
    "# Tic Tac Toe Game"
   ]
  },
  {
   "cell_type": "markdown",
   "id": "98c24bb3-106b-4efb-9476-67b7a3f148b0",
   "metadata": {
    "jp-MarkdownHeadingCollapsed": true
   },
   "source": [
    "### Functions"
   ]
  },
  {
   "cell_type": "code",
   "execution_count": 1,
   "id": "7cf68486-882e-4b90-9999-6aa25af0fa66",
   "metadata": {},
   "outputs": [],
   "source": [
    "from IPython.display import clear_output"
   ]
  },
  {
   "cell_type": "code",
   "execution_count": 2,
   "id": "34dadb25-0df7-4d3c-9e78-f05e3b70544e",
   "metadata": {},
   "outputs": [],
   "source": [
    "# Display function\n",
    "def display(xo):\n",
    "    # xo is the list of O and X match\n",
    "    print(f'| {xo[0]} | {xo[1]} | {xo[2]} |\\n| {xo[3]} | {xo[4]} | {xo[5]} |\\n| {xo[6]} | {xo[7]} | {xo[8]} |')"
   ]
  },
  {
   "cell_type": "code",
   "execution_count": 3,
   "id": "51872ad8-4c9b-4040-bde6-32ccd674d5a8",
   "metadata": {},
   "outputs": [],
   "source": [
    "# Choose O or X for players \n",
    "def choose_O_or_X():\n",
    "    # Initial value\n",
    "    player1 = 'initial'\n",
    "    O_or_X = ['O', 'X']\n",
    "\n",
    "    # Choose marker by player 1\n",
    "    while player1 not in O_or_X:\n",
    "        player1 = input('Player 1: Choose O or X: ').upper()\n",
    "\n",
    "    # Set remaining marker to player 2\n",
    "    O_or_X.remove(player1)\n",
    "    player2 = O_or_X[0]\n",
    "    \n",
    "    return player1, player2"
   ]
  },
  {
   "cell_type": "code",
   "execution_count": 4,
   "id": "a1cfe813-c5ae-48db-aaed-beff845c6cea",
   "metadata": {},
   "outputs": [],
   "source": [
    "# Select where to put O or X\n",
    "def select_field(player, fields):\n",
    "    \n",
    "    # Initial\n",
    "    field_index = 'Wrong'\n",
    "    \n",
    "    # Checking correct field index and field availability\n",
    "    while field_index not in ['1', '2', '3', '4', '5', '6', '7', '8', '9' ] or fields[int(field_index) - 1] in ['X', 'O']:\n",
    "        field_index = input(f'Player {player} move - select a field: \\n   1   2   3\\n   4   5   6\\n   7   8   9')\n",
    "        \n",
    "        # Field unavailability message\n",
    "        if fields[int(field_index) - 1] in ['X', 'O']:\n",
    "            print('This field is already taken!')\n",
    "            \n",
    "    return int(field_index)"
   ]
  },
  {
   "cell_type": "code",
   "execution_count": 5,
   "id": "cb535483-8328-4e71-908c-e4f3ae9a4d4c",
   "metadata": {},
   "outputs": [],
   "source": [
    "# Replace field with O or X\n",
    "def replace(choose_O_or_X, fields, field_index):\n",
    "    \n",
    "    fields[field_index - 1] = choose_O_or_X\n",
    "    \n",
    "    return fields"
   ]
  },
  {
   "cell_type": "code",
   "execution_count": 6,
   "id": "0ac0773e-0543-4ca8-afef-2afd9935d89d",
   "metadata": {},
   "outputs": [],
   "source": [
    "# Check win condition\n",
    "def check_win(f, player):\n",
    "\n",
    "    # All 8 possibilities to win\n",
    "    win_condition = [[f[0], f[1], f[2]], [f[3], f[4], f[5]], [f[6], f[7], f[8]], \n",
    "                [f[0], f[3], f[6]], [f[1], f[4], f[7]], [f[2], f[5], f[8]], \n",
    "                [f[0], f[4], f[8]], [f[2], f[4], f[6]]]\n",
    "    \n",
    "    if [player, player, player] in win_condition:\n",
    "        return True\n",
    "    else:\n",
    "        return False"
   ]
  },
  {
   "cell_type": "code",
   "execution_count": 7,
   "id": "6758bace-8411-4b27-a6da-40b26cc6c6b9",
   "metadata": {},
   "outputs": [],
   "source": [
    "# Turn off/on the game\n",
    "def game_on():\n",
    "    \n",
    "    # Initial\n",
    "    choise = 'Wrong'\n",
    "    \n",
    "    while choise.upper() not in ['Y', 'N']:\n",
    "        choise = input('Do you want to play again?')\n",
    "        \n",
    "    if choise.upper() == 'Y':\n",
    "        return True\n",
    "    if choise.upper() == 'N':\n",
    "        return False"
   ]
  },
  {
   "cell_type": "code",
   "execution_count": 8,
   "id": "88a1aef2-5002-4061-9d53-fd72685953ef",
   "metadata": {},
   "outputs": [],
   "source": [
    "def TicTacToeGame():\n",
    "\n",
    "    # Set the game on\n",
    "    game_on_off = True\n",
    "\n",
    "    # Outer loop - checking if the game is running\n",
    "    while game_on_off == True:\n",
    "\n",
    "        # Initial fields\n",
    "        fields = [' ', ' ', ' ', ' ', ' ', ' ', ' ', ' ', ' ']\n",
    "        \n",
    "        # Display initial fields\n",
    "        display(fields)\n",
    "        \n",
    "        # Let user choose O or X\n",
    "        player1, player2 = choose_O_or_X()\n",
    "        clear_output()\n",
    "        \n",
    "        display(fields)\n",
    "\n",
    "        # Set win condition to False\n",
    "        end_game = False\n",
    "\n",
    "        # Inner loop checks whether the winning condition is met\n",
    "        while end_game == False:\n",
    "\n",
    "            # Player 1\n",
    "            ########################################################\n",
    "            # Let Player 1 choose field\n",
    "            player1_field = select_field(player1, fields)\n",
    "            clear_output()\n",
    "            \n",
    "            # Replace choosen field to Player 1 marker\n",
    "            fields = replace(player1, fields, player1_field)\n",
    "            clear_output()\n",
    "            \n",
    "            # Display replaced field\n",
    "            display(fields)\n",
    "            \n",
    "            # Check win condition for Player 1 move\n",
    "            end_game = check_win(fields, player1)\n",
    "            \n",
    "            # Break game if Player 1 win\n",
    "            if end_game == True:\n",
    "                print('Player 1 won! Congratulations!')\n",
    "                break\n",
    "                \n",
    "            # Break a loop if there is no field and no win\n",
    "            if ' ' not in fields:\n",
    "                print('Draw!')\n",
    "                break\n",
    "            ########################################################\n",
    "\n",
    "            \n",
    "            # Player 2\n",
    "            ########################################################\n",
    "            # Let Player 2 choose field\n",
    "            player2_field = select_field(player2, fields)\n",
    "            clear_output()\n",
    "            \n",
    "            # Replace choosen field to Player 2 marker\n",
    "            fields = replace(player2, fields, player2_field)\n",
    "            clear_output()\n",
    "            \n",
    "            # Display replaced field\n",
    "            display(fields)\n",
    "            \n",
    "            # Check win condition for Player 2 move\n",
    "            end_game = check_win(fields, player2)\n",
    "\n",
    "            if end_game == True:\n",
    "                print('Player 2 won! Congratulations!')\n",
    "                break\n",
    "                \n",
    "            # Break a loop if there is no field and no win\n",
    "            if ' ' not in fields:\n",
    "                print('Draw!')\n",
    "                break\n",
    "            ########################################################\n",
    "        \n",
    "        # Check if the players wants to continue playing\n",
    "        game_on_off = game_on()\n",
    "        clear_output()"
   ]
  },
  {
   "cell_type": "markdown",
   "id": "379c9a62-896b-4497-b4a3-47d9b2853ab2",
   "metadata": {},
   "source": [
    "### Tic Tac Toe Game - Test"
   ]
  },
  {
   "cell_type": "code",
   "execution_count": 9,
   "id": "8ae5092c-a51c-4d3d-bf0b-5c5a7495dd50",
   "metadata": {},
   "outputs": [],
   "source": [
    "TicTacToeGame()"
   ]
  },
  {
   "cell_type": "code",
   "execution_count": null,
   "id": "e43742f1-5c21-4091-9adb-6d5e79fa855d",
   "metadata": {},
   "outputs": [],
   "source": []
  }
 ],
 "metadata": {
  "kernelspec": {
   "display_name": "Python 3 (ipykernel)",
   "language": "python",
   "name": "python3"
  },
  "language_info": {
   "codemirror_mode": {
    "name": "ipython",
    "version": 3
   },
   "file_extension": ".py",
   "mimetype": "text/x-python",
   "name": "python",
   "nbconvert_exporter": "python",
   "pygments_lexer": "ipython3",
   "version": "3.8.5"
  }
 },
 "nbformat": 4,
 "nbformat_minor": 5
}
